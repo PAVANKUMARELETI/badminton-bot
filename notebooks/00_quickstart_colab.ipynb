{
 "cells": [
  {
   "cell_type": "markdown",
   "id": "e3c1c2c5",
   "metadata": {},
   "source": [
    "# Badminton Wind Predictor - Quick Start\n",
    "\n",
    "This notebook demonstrates the complete workflow:\n",
    "1. Generate synthetic weather data\n",
    "2. Preprocess and build features\n",
    "3. Train a tiny LSTM model (1 epoch for speed)\n",
    "4. Make forecasts and get play/don't play decision\n",
    "\n",
    "**Runtime:** ~2-3 minutes on Colab free tier"
   ]
  },
  {
   "cell_type": "markdown",
   "id": "4663df80",
   "metadata": {},
   "source": [
    "## Setup\n",
    "\n",
    "Clone the repo and install dependencies:"
   ]
  },
  {
   "cell_type": "code",
   "execution_count": null,
   "id": "0758cd87",
   "metadata": {},
   "outputs": [],
   "source": [
    "# Clone repository (skip if already cloned)\n",
    "!git clone https://github.com/yourusername/badminton-wind-predictor.git\n",
    "%cd badminton-wind-predictor"
   ]
  },
  {
   "cell_type": "code",
   "execution_count": null,
   "id": "42b66597",
   "metadata": {},
   "outputs": [],
   "source": [
    "# Install dependencies\n",
    "!pip install -q -r requirements.txt"
   ]
  },
  {
   "cell_type": "markdown",
   "id": "67037267",
   "metadata": {},
   "source": [
    "## 1. Generate Sample Data"
   ]
  },
  {
   "cell_type": "code",
   "execution_count": null,
   "id": "dd6f59a4",
   "metadata": {},
   "outputs": [],
   "source": [
    "import numpy as np\n",
    "import pandas as pd\n",
    "import matplotlib.pyplot as plt\n",
    "\n",
    "from src.config import SAMPLE_DATA_PATH\n",
    "from scripts.make_sample_data import generate_synthetic_weather_data\n",
    "\n",
    "# Generate 2000 hours of synthetic data\n",
    "df = generate_synthetic_weather_data(n_records=2000, seed=42)\n",
    "\n",
    "# Save to file\n",
    "df.to_csv(SAMPLE_DATA_PATH, index=False)\n",
    "\n",
    "print(f\"Generated {len(df)} hours of data\")\n",
    "print(f\"Date range: {df['timestamp'].min()} to {df['timestamp'].max()}\")\n",
    "\n",
    "# Display sample\n",
    "df.head()"
   ]
  },
  {
   "cell_type": "code",
   "execution_count": null,
   "id": "24be103a",
   "metadata": {},
   "outputs": [],
   "source": [
    "# Visualize wind data\n",
    "fig, axes = plt.subplots(2, 1, figsize=(12, 6))\n",
    "\n",
    "# Wind speed\n",
    "axes[0].plot(df['timestamp'], df['wind_m_s'], label='Wind Speed', alpha=0.7)\n",
    "axes[0].plot(df['timestamp'], df['wind_gust_m_s'], label='Wind Gusts', alpha=0.7)\n",
    "axes[0].axhline(y=1.5, color='r', linestyle='--', label='Play threshold (median)')\n",
    "axes[0].set_ylabel('Wind Speed (m/s)')\n",
    "axes[0].set_title('Synthetic Wind Data')\n",
    "axes[0].legend()\n",
    "axes[0].grid(True, alpha=0.3)\n",
    "\n",
    "# Pressure\n",
    "axes[1].plot(df['timestamp'], df['pressure'], color='green')\n",
    "axes[1].set_ylabel('Pressure (hPa)')\n",
    "axes[1].set_xlabel('Timestamp')\n",
    "axes[1].grid(True, alpha=0.3)\n",
    "\n",
    "plt.tight_layout()\n",
    "plt.show()"
   ]
  },
  {
   "cell_type": "markdown",
   "id": "faeabe4d",
   "metadata": {},
   "source": [
    "## 2. Preprocess Data"
   ]
  },
  {
   "cell_type": "code",
   "execution_count": null,
   "id": "7dccf282",
   "metadata": {},
   "outputs": [],
   "source": [
    "from src.data.fetch import load_sample\n",
    "from src.data.preprocess import build_features\n",
    "\n",
    "# Load data\n",
    "df_raw = load_sample()\n",
    "\n",
    "print(f\"Raw data shape: {df_raw.shape}\")\n",
    "\n",
    "# Build features\n",
    "df_processed = build_features(df_raw)\n",
    "\n",
    "print(f\"Processed data shape: {df_processed.shape}\")\n",
    "print(f\"\\nFeature columns: {df_processed.columns.tolist()[:10]}...\")\n",
    "\n",
    "# Show sample\n",
    "df_processed.head()"
   ]
  },
  {
   "cell_type": "markdown",
   "id": "43ff850e",
   "metadata": {},
   "source": [
    "## 3. Train LSTM Model (Quick)\n",
    "\n",
    "Training for just 1 epoch to demonstrate the pipeline (in practice, use 50+ epochs)."
   ]
  },
  {
   "cell_type": "code",
   "execution_count": null,
   "id": "ccbab22e",
   "metadata": {},
   "outputs": [],
   "source": [
    "from src.models.lstm_model import LSTMForecaster\n",
    "\n",
    "# Split data\n",
    "split_idx = int(len(df_processed) * 0.8)\n",
    "train_df = df_processed.iloc[:split_idx]\n",
    "val_df = df_processed.iloc[split_idx:]\n",
    "\n",
    "print(f\"Train size: {len(train_df)}, Val size: {len(val_df)}\")\n",
    "\n",
    "# Create and train model\n",
    "model = LSTMForecaster()\n",
    "\n",
    "print(\"\\nTraining LSTM for 1 epoch (demo mode)...\")\n",
    "model.fit(train_df, val_df, epochs=1)\n",
    "\n",
    "print(\"\\n✓ Training complete!\")"
   ]
  },
  {
   "cell_type": "markdown",
   "id": "3be64a5d",
   "metadata": {},
   "source": [
    "## 4. Make Forecast and Decision"
   ]
  },
  {
   "cell_type": "code",
   "execution_count": null,
   "id": "c79a39b5",
   "metadata": {},
   "outputs": [],
   "source": [
    "from src.decision.rules import decide_play\n",
    "\n",
    "# Get latest forecast\n",
    "median_forecast = model.predict_latest(df_processed)\n",
    "\n",
    "# Compute q90 (simplified)\n",
    "q90_forecast = {key: value * 1.2 for key, value in median_forecast.items()}\n",
    "\n",
    "print(\"Median Forecast:\")\n",
    "for horizon, value in median_forecast.items():\n",
    "    print(f\"  {horizon}: {value:.2f} m/s\")\n",
    "\n",
    "print(\"\\nQ90 Forecast (90th percentile):\")\n",
    "for horizon, value in q90_forecast.items():\n",
    "    print(f\"  {horizon}: {value:.2f} m/s\")"
   ]
  },
  {
   "cell_type": "code",
   "execution_count": null,
   "id": "c6478dd3",
   "metadata": {},
   "outputs": [],
   "source": [
    "# Make decision\n",
    "decision = decide_play(median_forecast, q90_forecast)\n",
    "\n",
    "print(\"=\"*60)\n",
    "print(f\"DECISION: {decision['decision']}\")\n",
    "print(\"=\"*60)\n",
    "print(f\"\\nReason: {decision['reason']}\")\n",
    "print(f\"\\nThresholds:\")\n",
    "for key, value in decision['thresholds'].items():\n",
    "    print(f\"  {key}: {value}\")\n",
    "\n",
    "print(f\"\\nPer-Horizon Details:\")\n",
    "for horizon, details in decision['details'].items():\n",
    "    status = \"✓ PASS\" if details['passes'] else \"✗ FAIL\"\n",
    "    print(f\"  {horizon}: {status}\")\n",
    "    print(f\"    Median: {details['median_wind_m_s']:.2f} m/s\")\n",
    "    print(f\"    Q90: {details['q90_wind_m_s']:.2f} m/s\")\n",
    "    if details['violations']:\n",
    "        print(f\"    Violations: {details['violations']}\")"
   ]
  },
  {
   "cell_type": "markdown",
   "id": "e08c3cf3",
   "metadata": {},
   "source": [
    "## 5. Visualize Forecast"
   ]
  },
  {
   "cell_type": "code",
   "execution_count": null,
   "id": "738e24ed",
   "metadata": {},
   "outputs": [],
   "source": [
    "# Extract horizon values\n",
    "horizons = [1, 3, 6]\n",
    "median_values = [median_forecast[f'horizon_{h}h'] for h in horizons]\n",
    "q90_values = [q90_forecast[f'horizon_{h}h'] for h in horizons]\n",
    "\n",
    "# Create visualization\n",
    "fig, ax = plt.subplots(figsize=(10, 6))\n",
    "\n",
    "x = np.array(horizons)\n",
    "ax.plot(x, median_values, marker='o', linewidth=2, markersize=8, label='Median Forecast')\n",
    "ax.fill_between(x, median_values, q90_values, alpha=0.3, label='Uncertainty (50-90%)')\n",
    "\n",
    "# Threshold lines\n",
    "ax.axhline(y=1.5, color='orange', linestyle='--', linewidth=2, label='Median Threshold')\n",
    "ax.axhline(y=2.5, color='red', linestyle='--', linewidth=2, label='Q90 Threshold')\n",
    "\n",
    "ax.set_xlabel('Forecast Horizon (hours)', fontsize=12)\n",
    "ax.set_ylabel('Wind Speed (m/s)', fontsize=12)\n",
    "ax.set_title('Wind Forecast with Uncertainty', fontsize=14, fontweight='bold')\n",
    "ax.set_xticks(horizons)\n",
    "ax.legend(loc='best')\n",
    "ax.grid(True, alpha=0.3)\n",
    "\n",
    "# Add decision text\n",
    "decision_color = 'green' if decision['decision'] == 'PLAY' else 'red'\n",
    "ax.text(0.98, 0.98, f\"{decision['decision']}\", \n",
    "        transform=ax.transAxes,\n",
    "        fontsize=16, fontweight='bold',\n",
    "        verticalalignment='top', horizontalalignment='right',\n",
    "        bbox=dict(boxstyle='round', facecolor=decision_color, alpha=0.3))\n",
    "\n",
    "plt.tight_layout()\n",
    "plt.show()"
   ]
  },
  {
   "cell_type": "markdown",
   "id": "b4ee0ddb",
   "metadata": {},
   "source": [
    "## Summary\n",
    "\n",
    "You've successfully:\n",
    "\n",
    "1. ✓ Generated synthetic weather data\n",
    "2. ✓ Preprocessed with feature engineering\n",
    "3. ✓ Trained an LSTM forecasting model\n",
    "4. ✓ Made multi-horizon wind forecasts\n",
    "5. ✓ Got a play/don't play decision\n",
    "\n",
    "### Next Steps\n",
    "\n",
    "- Train for more epochs (50+) for better accuracy\n",
    "- Try different model architectures\n",
    "- Use real weather data (METAR, OpenWeather)\n",
    "- Deploy to Hugging Face Spaces\n",
    "- Customize thresholds for your preferences\n",
    "\n",
    "### Learn More\n",
    "\n",
    "- Documentation: See `README.md` and `docs/design.md`\n",
    "- Source code: Explore `src/` directory\n",
    "- Tests: Check `tests/` for examples"
   ]
  }
 ],
 "metadata": {
  "language_info": {
   "name": "python"
  }
 },
 "nbformat": 4,
 "nbformat_minor": 5
}
